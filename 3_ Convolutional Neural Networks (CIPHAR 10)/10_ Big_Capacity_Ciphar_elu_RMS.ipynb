{
 "cells": [
  {
   "cell_type": "code",
   "execution_count": 1,
   "metadata": {},
   "outputs": [
    {
     "name": "stderr",
     "output_type": "stream",
     "text": [
      "Using TensorFlow backend.\n"
     ]
    }
   ],
   "source": [
    "import keras\n",
    "from keras.models import Sequential\n",
    "from keras.utils import np_utils\n",
    "from keras.preprocessing.image import ImageDataGenerator\n",
    "from keras.layers import Dense, Activation, Flatten, Dropout, BatchNormalization\n",
    "from keras.layers import Conv2D, MaxPooling2D\n",
    "from keras.datasets import cifar10\n",
    "from keras import regularizers\n",
    "from keras.callbacks import LearningRateScheduler\n",
    "import numpy as np\n",
    "from sklearn.model_selection import train_test_split"
   ]
  },
  {
   "cell_type": "code",
   "execution_count": 2,
   "metadata": {},
   "outputs": [],
   "source": [
    "def lr_schedule(epoch):\n",
    "    lrate = 0.001\n",
    "    if epoch > 75:\n",
    "        lrate = 0.0005\n",
    "    if epoch > 100:\n",
    "        lrate = 0.0003\n",
    "    return lrate"
   ]
  },
  {
   "cell_type": "code",
   "execution_count": 3,
   "metadata": {},
   "outputs": [],
   "source": [
    "(x_train, y_train), (x_test, y_test) = cifar10.load_data()\n",
    "x_train = x_train.astype('float32')\n",
    "x_test = x_test.astype('float32')"
   ]
  },
  {
   "cell_type": "code",
   "execution_count": 4,
   "metadata": {},
   "outputs": [],
   "source": [
    "x_train , x_val, y_train, y_val = train_test_split(x_train, y_train, test_size=0.2)\n",
    "x_val = x_val.astype('float32')"
   ]
  },
  {
   "cell_type": "code",
   "execution_count": 5,
   "metadata": {},
   "outputs": [
    {
     "name": "stdout",
     "output_type": "stream",
     "text": [
      "40000\n",
      "40000\n",
      "10000\n",
      "10000\n",
      "10000\n",
      "10000\n"
     ]
    }
   ],
   "source": [
    "print(len(x_train))\n",
    "print(len(y_train))\n",
    "print(len(x_test))\n",
    "print(len(y_test))\n",
    "print(len(x_val))\n",
    "print(len(y_val))"
   ]
  },
  {
   "cell_type": "code",
   "execution_count": 6,
   "metadata": {},
   "outputs": [],
   "source": [
    "mean = np.mean(x_train,axis=(0,1,2,3))\n",
    "std = np.std(x_train,axis=(0,1,2,3))\n",
    "x_train = (x_train-mean)/(std+1e-7)\n",
    "x_test = (x_test-mean)/(std+1e-7)\n",
    "x_val = (x_val-mean)/(std+1e-7)"
   ]
  },
  {
   "cell_type": "code",
   "execution_count": 7,
   "metadata": {},
   "outputs": [],
   "source": [
    "num_classes = 10\n",
    "y_train = np_utils.to_categorical(y_train,num_classes)\n",
    "y_test = np_utils.to_categorical(y_test,num_classes)\n",
    "y_val = np_utils.to_categorical(y_val,num_classes)"
   ]
  },
  {
   "cell_type": "code",
   "execution_count": 8,
   "metadata": {},
   "outputs": [],
   "source": [
    "weight_decay = 1e-4"
   ]
  },
  {
   "cell_type": "code",
   "execution_count": 9,
   "metadata": {},
   "outputs": [
    {
     "name": "stdout",
     "output_type": "stream",
     "text": [
      "_________________________________________________________________\n",
      "Layer (type)                 Output Shape              Param #   \n",
      "=================================================================\n",
      "conv2d_1 (Conv2D)            (None, 32, 32, 32)        896       \n",
      "_________________________________________________________________\n",
      "activation_1 (Activation)    (None, 32, 32, 32)        0         \n",
      "_________________________________________________________________\n",
      "batch_normalization_1 (Batch (None, 32, 32, 32)        128       \n",
      "_________________________________________________________________\n",
      "conv2d_2 (Conv2D)            (None, 32, 32, 32)        9248      \n",
      "_________________________________________________________________\n",
      "activation_2 (Activation)    (None, 32, 32, 32)        0         \n",
      "_________________________________________________________________\n",
      "batch_normalization_2 (Batch (None, 32, 32, 32)        128       \n",
      "_________________________________________________________________\n",
      "max_pooling2d_1 (MaxPooling2 (None, 16, 16, 32)        0         \n",
      "_________________________________________________________________\n",
      "dropout_1 (Dropout)          (None, 16, 16, 32)        0         \n",
      "_________________________________________________________________\n",
      "conv2d_3 (Conv2D)            (None, 16, 16, 64)        18496     \n",
      "_________________________________________________________________\n",
      "activation_3 (Activation)    (None, 16, 16, 64)        0         \n",
      "_________________________________________________________________\n",
      "batch_normalization_3 (Batch (None, 16, 16, 64)        256       \n",
      "_________________________________________________________________\n",
      "conv2d_4 (Conv2D)            (None, 16, 16, 64)        36928     \n",
      "_________________________________________________________________\n",
      "activation_4 (Activation)    (None, 16, 16, 64)        0         \n",
      "_________________________________________________________________\n",
      "batch_normalization_4 (Batch (None, 16, 16, 64)        256       \n",
      "_________________________________________________________________\n",
      "max_pooling2d_2 (MaxPooling2 (None, 8, 8, 64)          0         \n",
      "_________________________________________________________________\n",
      "dropout_2 (Dropout)          (None, 8, 8, 64)          0         \n",
      "_________________________________________________________________\n",
      "conv2d_5 (Conv2D)            (None, 8, 8, 128)         73856     \n",
      "_________________________________________________________________\n",
      "activation_5 (Activation)    (None, 8, 8, 128)         0         \n",
      "_________________________________________________________________\n",
      "batch_normalization_5 (Batch (None, 8, 8, 128)         512       \n",
      "_________________________________________________________________\n",
      "conv2d_6 (Conv2D)            (None, 8, 8, 128)         147584    \n",
      "_________________________________________________________________\n",
      "activation_6 (Activation)    (None, 8, 8, 128)         0         \n",
      "_________________________________________________________________\n",
      "batch_normalization_6 (Batch (None, 8, 8, 128)         512       \n",
      "_________________________________________________________________\n",
      "max_pooling2d_3 (MaxPooling2 (None, 4, 4, 128)         0         \n",
      "_________________________________________________________________\n",
      "dropout_3 (Dropout)          (None, 4, 4, 128)         0         \n",
      "_________________________________________________________________\n",
      "flatten_1 (Flatten)          (None, 2048)              0         \n",
      "_________________________________________________________________\n",
      "dense_1 (Dense)              (None, 10)                20490     \n",
      "=================================================================\n",
      "Total params: 309,290\n",
      "Trainable params: 308,394\n",
      "Non-trainable params: 896\n",
      "_________________________________________________________________\n"
     ]
    }
   ],
   "source": [
    "model = Sequential()\n",
    "model.add(Conv2D(32, (3,3), padding='same', kernel_regularizer=regularizers.l2(weight_decay), input_shape=x_train.shape[1:]))\n",
    "model.add(Activation('elu'))\n",
    "model.add(BatchNormalization())\n",
    "model.add(Conv2D(32, (3,3), padding='same', kernel_regularizer=regularizers.l2(weight_decay)))\n",
    "model.add(Activation('elu'))\n",
    "model.add(BatchNormalization())\n",
    "model.add(MaxPooling2D(pool_size=(2,2)))\n",
    "model.add(Dropout(0.2))\n",
    " \n",
    "model.add(Conv2D(64, (3,3), padding='same', kernel_regularizer=regularizers.l2(weight_decay)))\n",
    "model.add(Activation('elu'))\n",
    "model.add(BatchNormalization())\n",
    "model.add(Conv2D(64, (3,3), padding='same', kernel_regularizer=regularizers.l2(weight_decay)))\n",
    "model.add(Activation('elu'))\n",
    "model.add(BatchNormalization())\n",
    "model.add(MaxPooling2D(pool_size=(2,2)))\n",
    "model.add(Dropout(0.3))\n",
    " \n",
    "model.add(Conv2D(128, (3,3), padding='same', kernel_regularizer=regularizers.l2(weight_decay)))\n",
    "model.add(Activation('elu'))\n",
    "model.add(BatchNormalization())\n",
    "model.add(Conv2D(128, (3,3), padding='same', kernel_regularizer=regularizers.l2(weight_decay)))\n",
    "model.add(Activation('elu'))\n",
    "model.add(BatchNormalization())\n",
    "model.add(MaxPooling2D(pool_size=(2,2)))\n",
    "model.add(Dropout(0.4))\n",
    " \n",
    "model.add(Flatten())\n",
    "model.add(Dense(num_classes, activation='softmax'))\n",
    " \n",
    "model.summary()"
   ]
  },
  {
   "cell_type": "code",
   "execution_count": 10,
   "metadata": {},
   "outputs": [],
   "source": [
    "datagen = ImageDataGenerator(\n",
    "    rotation_range=15,\n",
    "    width_shift_range=0.1,\n",
    "    height_shift_range=0.1,\n",
    "    horizontal_flip=True,\n",
    "    )\n",
    "datagen.fit(x_train)"
   ]
  },
  {
   "cell_type": "code",
   "execution_count": 11,
   "metadata": {},
   "outputs": [],
   "source": [
    "from keras.callbacks import ModelCheckpoint, TensorBoard, CSVLogger,ReduceLROnPlateau,LearningRateScheduler,EarlyStopping\n",
    "mc = ModelCheckpoint('Ciphar_RMS(elu).h5', monitor='val_loss', save_best_only=True)\n",
    "tb = TensorBoard(log_dir='./logs', write_graph=True, write_grads=False, write_images=False, embeddings_freq=0, update_freq='epoch')\n",
    "cv = CSVLogger('Ciphar_RMS(elu).csv',append=True)\n",
    "rp = ReduceLROnPlateau(monitor='val_loss', factor=0.1, patience=15, verbose=0, mode='auto', min_delta=0.0001, cooldown=0, min_lr=0)\n",
    "es = EarlyStopping(monitor='val_loss', min_delta=0, patience=25, verbose=0, mode='auto', baseline=None, restore_best_weights=True)"
   ]
  },
  {
   "cell_type": "code",
   "execution_count": 12,
   "metadata": {},
   "outputs": [
    {
     "name": "stdout",
     "output_type": "stream",
     "text": [
      "Epoch 1/200\n",
      "625/625 [==============================] - 17s 27ms/step - loss: 2.0124 - acc: 0.3973 - val_loss: 1.4808 - val_acc: 0.5342\n",
      "Epoch 2/200\n",
      "625/625 [==============================] - 16s 25ms/step - loss: 1.3962 - acc: 0.5531 - val_loss: 1.1738 - val_acc: 0.6277\n",
      "Epoch 3/200\n",
      "625/625 [==============================] - 15s 25ms/step - loss: 1.1916 - acc: 0.6261 - val_loss: 1.2030 - val_acc: 0.6521\n",
      "Epoch 4/200\n",
      "625/625 [==============================] - 15s 24ms/step - loss: 1.0580 - acc: 0.6658 - val_loss: 0.9801 - val_acc: 0.7035\n",
      "Epoch 5/200\n",
      "625/625 [==============================] - 15s 24ms/step - loss: 0.9730 - acc: 0.6948 - val_loss: 0.9529 - val_acc: 0.7229\n",
      "Epoch 6/200\n",
      "625/625 [==============================] - 15s 24ms/step - loss: 0.9237 - acc: 0.7155 - val_loss: 0.7834 - val_acc: 0.7665\n",
      "Epoch 7/200\n",
      "625/625 [==============================] - 15s 24ms/step - loss: 0.8834 - acc: 0.7299 - val_loss: 0.8899 - val_acc: 0.7430\n",
      "Epoch 8/200\n",
      "625/625 [==============================] - 15s 24ms/step - loss: 0.8439 - acc: 0.7426 - val_loss: 0.7817 - val_acc: 0.7709\n",
      "Epoch 9/200\n",
      "625/625 [==============================] - 15s 24ms/step - loss: 0.8324 - acc: 0.7507 - val_loss: 0.7961 - val_acc: 0.7716\n",
      "Epoch 10/200\n",
      "625/625 [==============================] - 15s 24ms/step - loss: 0.7989 - acc: 0.7624 - val_loss: 0.7906 - val_acc: 0.7762\n",
      "Epoch 11/200\n",
      "625/625 [==============================] - 15s 24ms/step - loss: 0.7815 - acc: 0.7659 - val_loss: 0.7396 - val_acc: 0.7899\n",
      "Epoch 12/200\n",
      "625/625 [==============================] - 15s 24ms/step - loss: 0.7679 - acc: 0.7753 - val_loss: 0.7168 - val_acc: 0.7986\n",
      "Epoch 13/200\n",
      "625/625 [==============================] - 15s 24ms/step - loss: 0.7505 - acc: 0.7809 - val_loss: 0.7095 - val_acc: 0.8014\n",
      "Epoch 14/200\n",
      "625/625 [==============================] - 15s 24ms/step - loss: 0.7386 - acc: 0.7880 - val_loss: 0.7294 - val_acc: 0.7998\n",
      "Epoch 15/200\n",
      "625/625 [==============================] - 15s 24ms/step - loss: 0.7288 - acc: 0.7914 - val_loss: 0.7874 - val_acc: 0.7852\n",
      "Epoch 16/200\n",
      "625/625 [==============================] - 15s 24ms/step - loss: 0.7185 - acc: 0.7939 - val_loss: 0.7366 - val_acc: 0.8013\n",
      "Epoch 17/200\n",
      "625/625 [==============================] - 15s 24ms/step - loss: 0.7152 - acc: 0.7965 - val_loss: 0.7270 - val_acc: 0.7988\n",
      "Epoch 18/200\n",
      "625/625 [==============================] - 15s 24ms/step - loss: 0.7059 - acc: 0.8013 - val_loss: 0.6901 - val_acc: 0.8155\n",
      "Epoch 19/200\n",
      "625/625 [==============================] - 15s 24ms/step - loss: 0.6951 - acc: 0.8034 - val_loss: 0.6847 - val_acc: 0.8180\n",
      "Epoch 20/200\n",
      "625/625 [==============================] - 16s 26ms/step - loss: 0.6883 - acc: 0.8091 - val_loss: 0.6649 - val_acc: 0.8217\n",
      "Epoch 21/200\n",
      "625/625 [==============================] - 15s 24ms/step - loss: 0.6899 - acc: 0.8073 - val_loss: 0.6148 - val_acc: 0.8389\n",
      "Epoch 22/200\n",
      "625/625 [==============================] - 15s 25ms/step - loss: 0.6758 - acc: 0.8123 - val_loss: 0.7253 - val_acc: 0.8130\n",
      "Epoch 23/200\n",
      "625/625 [==============================] - 15s 24ms/step - loss: 0.6691 - acc: 0.8183 - val_loss: 0.6644 - val_acc: 0.8203\n",
      "Epoch 24/200\n",
      "625/625 [==============================] - 15s 24ms/step - loss: 0.6633 - acc: 0.8181 - val_loss: 0.6347 - val_acc: 0.8372\n",
      "Epoch 25/200\n",
      "625/625 [==============================] - 15s 24ms/step - loss: 0.6612 - acc: 0.8212 - val_loss: 0.6470 - val_acc: 0.8300\n",
      "Epoch 26/200\n",
      "625/625 [==============================] - 15s 25ms/step - loss: 0.6621 - acc: 0.8179 - val_loss: 0.7196 - val_acc: 0.8116\n",
      "Epoch 27/200\n",
      "625/625 [==============================] - 15s 25ms/step - loss: 0.6568 - acc: 0.8251 - val_loss: 0.6742 - val_acc: 0.8264\n",
      "Epoch 28/200\n",
      "625/625 [==============================] - 15s 25ms/step - loss: 0.6543 - acc: 0.8216 - val_loss: 0.6656 - val_acc: 0.8238\n",
      "Epoch 29/200\n",
      "625/625 [==============================] - 16s 25ms/step - loss: 0.6466 - acc: 0.8266 - val_loss: 0.6234 - val_acc: 0.8359\n",
      "Epoch 30/200\n",
      "625/625 [==============================] - 16s 25ms/step - loss: 0.6443 - acc: 0.8259 - val_loss: 0.6593 - val_acc: 0.8310\n",
      "Epoch 31/200\n",
      "625/625 [==============================] - 16s 26ms/step - loss: 0.6391 - acc: 0.8307 - val_loss: 0.6252 - val_acc: 0.8421\n",
      "Epoch 32/200\n",
      "625/625 [==============================] - 16s 26ms/step - loss: 0.6432 - acc: 0.8278 - val_loss: 0.6734 - val_acc: 0.8240\n",
      "Epoch 33/200\n",
      "625/625 [==============================] - 16s 25ms/step - loss: 0.6328 - acc: 0.8326 - val_loss: 0.6440 - val_acc: 0.8335\n",
      "Epoch 34/200\n",
      "625/625 [==============================] - 15s 25ms/step - loss: 0.6336 - acc: 0.8310 - val_loss: 0.7323 - val_acc: 0.8061\n",
      "Epoch 35/200\n",
      "625/625 [==============================] - 16s 25ms/step - loss: 0.6269 - acc: 0.8342 - val_loss: 0.7260 - val_acc: 0.8111\n",
      "Epoch 36/200\n",
      "625/625 [==============================] - 15s 24ms/step - loss: 0.6278 - acc: 0.8334 - val_loss: 0.6355 - val_acc: 0.8377\n",
      "Epoch 37/200\n",
      "625/625 [==============================] - 15s 25ms/step - loss: 0.6249 - acc: 0.8356 - val_loss: 0.7126 - val_acc: 0.8207\n",
      "Epoch 38/200\n",
      "625/625 [==============================] - 15s 24ms/step - loss: 0.6203 - acc: 0.8367 - val_loss: 0.6951 - val_acc: 0.8211\n",
      "Epoch 39/200\n",
      "625/625 [==============================] - 15s 25ms/step - loss: 0.6241 - acc: 0.8374 - val_loss: 0.6281 - val_acc: 0.8417\n",
      "Epoch 40/200\n",
      "625/625 [==============================] - 15s 24ms/step - loss: 0.6208 - acc: 0.8355 - val_loss: 0.6233 - val_acc: 0.8420\n",
      "Epoch 41/200\n",
      "625/625 [==============================] - 15s 24ms/step - loss: 0.6226 - acc: 0.8366 - val_loss: 0.6028 - val_acc: 0.8450\n",
      "Epoch 42/200\n",
      "625/625 [==============================] - 16s 25ms/step - loss: 0.6137 - acc: 0.8395 - val_loss: 0.6323 - val_acc: 0.8414\n",
      "Epoch 43/200\n",
      "625/625 [==============================] - 15s 24ms/step - loss: 0.6153 - acc: 0.8385 - val_loss: 0.6243 - val_acc: 0.8432\n",
      "Epoch 44/200\n",
      "625/625 [==============================] - 15s 24ms/step - loss: 0.6125 - acc: 0.8419 - val_loss: 0.6742 - val_acc: 0.8279\n",
      "Epoch 45/200\n",
      "625/625 [==============================] - 15s 24ms/step - loss: 0.6089 - acc: 0.8427 - val_loss: 0.6627 - val_acc: 0.8299\n",
      "Epoch 46/200\n",
      "625/625 [==============================] - 15s 24ms/step - loss: 0.6078 - acc: 0.8431 - val_loss: 0.6078 - val_acc: 0.8490\n",
      "Epoch 47/200\n",
      "625/625 [==============================] - 15s 25ms/step - loss: 0.6085 - acc: 0.8425 - val_loss: 0.7073 - val_acc: 0.8242\n",
      "Epoch 48/200\n",
      "625/625 [==============================] - 15s 25ms/step - loss: 0.6094 - acc: 0.8416 - val_loss: 0.6288 - val_acc: 0.8437\n",
      "Epoch 49/200\n",
      "625/625 [==============================] - 15s 25ms/step - loss: 0.6103 - acc: 0.8416 - val_loss: 0.6619 - val_acc: 0.8354\n",
      "Epoch 50/200\n",
      "625/625 [==============================] - 16s 25ms/step - loss: 0.6068 - acc: 0.8428 - val_loss: 0.6238 - val_acc: 0.8429\n",
      "Epoch 51/200\n",
      "625/625 [==============================] - 16s 25ms/step - loss: 0.6060 - acc: 0.8437 - val_loss: 0.6389 - val_acc: 0.8441\n",
      "Epoch 52/200\n",
      "625/625 [==============================] - 15s 24ms/step - loss: 0.6038 - acc: 0.8438 - val_loss: 0.6094 - val_acc: 0.8478\n",
      "Epoch 53/200\n",
      "625/625 [==============================] - 15s 25ms/step - loss: 0.6042 - acc: 0.8452 - val_loss: 0.6278 - val_acc: 0.8418\n",
      "Epoch 54/200\n",
      "625/625 [==============================] - 16s 25ms/step - loss: 0.6025 - acc: 0.8443 - val_loss: 0.5923 - val_acc: 0.8538\n",
      "Epoch 55/200\n",
      "625/625 [==============================] - 15s 24ms/step - loss: 0.5978 - acc: 0.8458 - val_loss: 0.7208 - val_acc: 0.8213\n",
      "Epoch 56/200\n",
      "625/625 [==============================] - 15s 24ms/step - loss: 0.5970 - acc: 0.8479 - val_loss: 0.6292 - val_acc: 0.8445\n",
      "Epoch 57/200\n",
      "625/625 [==============================] - 15s 24ms/step - loss: 0.5975 - acc: 0.8461 - val_loss: 0.5976 - val_acc: 0.8595\n",
      "Epoch 58/200\n",
      "625/625 [==============================] - 15s 24ms/step - loss: 0.5922 - acc: 0.8486 - val_loss: 0.6199 - val_acc: 0.8496\n",
      "Epoch 59/200\n",
      "625/625 [==============================] - 15s 24ms/step - loss: 0.5986 - acc: 0.8459 - val_loss: 0.6336 - val_acc: 0.8415\n",
      "Epoch 60/200\n",
      "625/625 [==============================] - 15s 25ms/step - loss: 0.5955 - acc: 0.8479 - val_loss: 0.6195 - val_acc: 0.8521\n",
      "Epoch 61/200\n"
     ]
    },
    {
     "name": "stdout",
     "output_type": "stream",
     "text": [
      "625/625 [==============================] - 16s 25ms/step - loss: 0.5904 - acc: 0.8501 - val_loss: 0.7467 - val_acc: 0.8159\n",
      "Epoch 62/200\n",
      "625/625 [==============================] - 15s 24ms/step - loss: 0.5884 - acc: 0.8492 - val_loss: 0.5845 - val_acc: 0.8596\n",
      "Epoch 63/200\n",
      "625/625 [==============================] - 15s 24ms/step - loss: 0.5931 - acc: 0.8495 - val_loss: 0.6522 - val_acc: 0.8437\n",
      "Epoch 64/200\n",
      "625/625 [==============================] - 15s 24ms/step - loss: 0.5924 - acc: 0.8492 - val_loss: 0.6610 - val_acc: 0.8335\n",
      "Epoch 65/200\n",
      "625/625 [==============================] - 15s 24ms/step - loss: 0.5867 - acc: 0.8511 - val_loss: 0.5766 - val_acc: 0.8588\n",
      "Epoch 66/200\n",
      "625/625 [==============================] - 16s 25ms/step - loss: 0.5916 - acc: 0.8491 - val_loss: 0.6148 - val_acc: 0.8465\n",
      "Epoch 67/200\n",
      "625/625 [==============================] - 16s 25ms/step - loss: 0.5865 - acc: 0.8519 - val_loss: 0.6281 - val_acc: 0.8466\n",
      "Epoch 68/200\n",
      "625/625 [==============================] - 15s 25ms/step - loss: 0.5851 - acc: 0.8531 - val_loss: 0.5706 - val_acc: 0.8617\n",
      "Epoch 69/200\n",
      "625/625 [==============================] - 15s 25ms/step - loss: 0.5821 - acc: 0.8504 - val_loss: 0.6321 - val_acc: 0.8431\n",
      "Epoch 70/200\n",
      "625/625 [==============================] - 15s 25ms/step - loss: 0.5873 - acc: 0.8509 - val_loss: 0.6291 - val_acc: 0.8464\n",
      "Epoch 71/200\n",
      "625/625 [==============================] - 15s 24ms/step - loss: 0.5815 - acc: 0.8549 - val_loss: 0.5961 - val_acc: 0.8547\n",
      "Epoch 72/200\n",
      "625/625 [==============================] - 15s 25ms/step - loss: 0.5817 - acc: 0.8534 - val_loss: 0.5976 - val_acc: 0.8567\n",
      "Epoch 73/200\n",
      "625/625 [==============================] - 15s 24ms/step - loss: 0.5855 - acc: 0.8538 - val_loss: 0.5591 - val_acc: 0.8605\n",
      "Epoch 74/200\n",
      "625/625 [==============================] - 15s 24ms/step - loss: 0.5813 - acc: 0.8528 - val_loss: 0.5944 - val_acc: 0.8541\n",
      "Epoch 75/200\n",
      "625/625 [==============================] - 15s 25ms/step - loss: 0.5811 - acc: 0.8538 - val_loss: 0.6111 - val_acc: 0.8509\n",
      "Epoch 76/200\n",
      "625/625 [==============================] - 15s 25ms/step - loss: 0.5845 - acc: 0.8516 - val_loss: 0.6454 - val_acc: 0.8370\n",
      "Epoch 77/200\n",
      "625/625 [==============================] - 15s 24ms/step - loss: 0.5358 - acc: 0.8682 - val_loss: 0.5669 - val_acc: 0.8634\n",
      "Epoch 78/200\n",
      "625/625 [==============================] - 15s 24ms/step - loss: 0.5168 - acc: 0.8747 - val_loss: 0.5508 - val_acc: 0.8685\n",
      "Epoch 79/200\n",
      "625/625 [==============================] - 15s 25ms/step - loss: 0.5122 - acc: 0.8767 - val_loss: 0.5586 - val_acc: 0.8674\n",
      "Epoch 80/200\n",
      "625/625 [==============================] - 15s 24ms/step - loss: 0.5015 - acc: 0.8777 - val_loss: 0.5108 - val_acc: 0.8816\n",
      "Epoch 81/200\n",
      "625/625 [==============================] - 15s 24ms/step - loss: 0.5030 - acc: 0.8766 - val_loss: 0.5557 - val_acc: 0.8657\n",
      "Epoch 82/200\n",
      "625/625 [==============================] - 15s 25ms/step - loss: 0.4937 - acc: 0.8781 - val_loss: 0.5015 - val_acc: 0.8769\n",
      "Epoch 83/200\n",
      "625/625 [==============================] - 15s 24ms/step - loss: 0.4929 - acc: 0.8789 - val_loss: 0.5155 - val_acc: 0.8772\n",
      "Epoch 84/200\n",
      "625/625 [==============================] - 15s 24ms/step - loss: 0.4868 - acc: 0.8779 - val_loss: 0.4959 - val_acc: 0.8795\n",
      "Epoch 85/200\n",
      "625/625 [==============================] - 15s 24ms/step - loss: 0.4869 - acc: 0.8783 - val_loss: 0.5925 - val_acc: 0.8540\n",
      "Epoch 86/200\n",
      "625/625 [==============================] - 15s 25ms/step - loss: 0.4857 - acc: 0.8793 - val_loss: 0.5588 - val_acc: 0.8596\n",
      "Epoch 87/200\n",
      "625/625 [==============================] - 15s 24ms/step - loss: 0.4795 - acc: 0.8799 - val_loss: 0.5236 - val_acc: 0.8719\n",
      "Epoch 88/200\n",
      "625/625 [==============================] - 15s 25ms/step - loss: 0.4811 - acc: 0.8791 - val_loss: 0.5447 - val_acc: 0.8691\n",
      "Epoch 89/200\n",
      "625/625 [==============================] - 15s 25ms/step - loss: 0.4783 - acc: 0.8795 - val_loss: 0.5315 - val_acc: 0.8711\n",
      "Epoch 90/200\n",
      "625/625 [==============================] - 15s 24ms/step - loss: 0.4752 - acc: 0.8795 - val_loss: 0.5376 - val_acc: 0.8700\n",
      "Epoch 91/200\n",
      "625/625 [==============================] - 15s 24ms/step - loss: 0.4657 - acc: 0.8837 - val_loss: 0.5383 - val_acc: 0.8678\n",
      "Epoch 92/200\n",
      "625/625 [==============================] - 15s 24ms/step - loss: 0.4720 - acc: 0.8812 - val_loss: 0.5496 - val_acc: 0.8665\n",
      "Epoch 93/200\n",
      "625/625 [==============================] - 15s 24ms/step - loss: 0.4692 - acc: 0.8820 - val_loss: 0.5152 - val_acc: 0.8719\n",
      "Epoch 94/200\n",
      "625/625 [==============================] - 15s 25ms/step - loss: 0.4681 - acc: 0.8823 - val_loss: 0.5093 - val_acc: 0.8784\n",
      "Epoch 95/200\n",
      "625/625 [==============================] - 15s 24ms/step - loss: 0.4673 - acc: 0.8810 - val_loss: 0.4980 - val_acc: 0.8796\n",
      "Epoch 96/200\n",
      "625/625 [==============================] - 15s 24ms/step - loss: 0.4645 - acc: 0.8833 - val_loss: 0.5266 - val_acc: 0.8682\n",
      "Epoch 97/200\n",
      "625/625 [==============================] - 15s 24ms/step - loss: 0.4663 - acc: 0.8813 - val_loss: 0.4940 - val_acc: 0.8751\n",
      "Epoch 98/200\n",
      "625/625 [==============================] - 15s 24ms/step - loss: 0.4603 - acc: 0.8834 - val_loss: 0.5214 - val_acc: 0.8719\n",
      "Epoch 99/200\n",
      "625/625 [==============================] - 15s 24ms/step - loss: 0.4588 - acc: 0.8839 - val_loss: 0.5396 - val_acc: 0.8683\n",
      "Epoch 100/200\n",
      "625/625 [==============================] - 15s 24ms/step - loss: 0.4579 - acc: 0.8841 - val_loss: 0.5192 - val_acc: 0.8726\n",
      "Epoch 101/200\n",
      "625/625 [==============================] - 15s 24ms/step - loss: 0.4627 - acc: 0.8826 - val_loss: 0.4943 - val_acc: 0.8794\n",
      "Epoch 102/200\n",
      "625/625 [==============================] - 15s 24ms/step - loss: 0.4374 - acc: 0.8910 - val_loss: 0.4982 - val_acc: 0.8792\n",
      "Epoch 103/200\n",
      "625/625 [==============================] - 15s 25ms/step - loss: 0.4331 - acc: 0.8908 - val_loss: 0.4987 - val_acc: 0.8765\n",
      "Epoch 104/200\n",
      "625/625 [==============================] - 15s 25ms/step - loss: 0.4257 - acc: 0.8941 - val_loss: 0.4921 - val_acc: 0.8804\n",
      "Epoch 105/200\n",
      "625/625 [==============================] - 15s 25ms/step - loss: 0.4257 - acc: 0.8957 - val_loss: 0.4749 - val_acc: 0.8865\n",
      "Epoch 106/200\n",
      "625/625 [==============================] - 15s 24ms/step - loss: 0.4178 - acc: 0.8957 - val_loss: 0.4757 - val_acc: 0.8842\n",
      "Epoch 107/200\n",
      "625/625 [==============================] - 15s 24ms/step - loss: 0.4135 - acc: 0.8979 - val_loss: 0.4937 - val_acc: 0.8784\n",
      "Epoch 108/200\n",
      "625/625 [==============================] - 16s 25ms/step - loss: 0.4131 - acc: 0.8944 - val_loss: 0.4824 - val_acc: 0.8806\n",
      "Epoch 109/200\n",
      "625/625 [==============================] - 16s 25ms/step - loss: 0.4194 - acc: 0.8952 - val_loss: 0.4801 - val_acc: 0.8858\n",
      "Epoch 110/200\n",
      "625/625 [==============================] - 15s 25ms/step - loss: 0.4175 - acc: 0.8956 - val_loss: 0.4805 - val_acc: 0.8827\n",
      "Epoch 111/200\n",
      "625/625 [==============================] - 15s 25ms/step - loss: 0.4103 - acc: 0.8954 - val_loss: 0.4849 - val_acc: 0.8815\n",
      "Epoch 112/200\n",
      "625/625 [==============================] - 15s 25ms/step - loss: 0.4110 - acc: 0.8961 - val_loss: 0.4743 - val_acc: 0.8840\n",
      "Epoch 113/200\n",
      "625/625 [==============================] - 15s 25ms/step - loss: 0.4120 - acc: 0.8971 - val_loss: 0.4712 - val_acc: 0.8823\n",
      "Epoch 114/200\n",
      "625/625 [==============================] - 16s 25ms/step - loss: 0.4123 - acc: 0.8975 - val_loss: 0.4895 - val_acc: 0.8789\n",
      "Epoch 115/200\n",
      "625/625 [==============================] - 15s 24ms/step - loss: 0.4025 - acc: 0.8974 - val_loss: 0.4739 - val_acc: 0.8848\n",
      "Epoch 116/200\n",
      "625/625 [==============================] - 16s 25ms/step - loss: 0.4091 - acc: 0.8957 - val_loss: 0.4770 - val_acc: 0.8817\n",
      "Epoch 117/200\n",
      "625/625 [==============================] - 15s 25ms/step - loss: 0.3998 - acc: 0.8978 - val_loss: 0.4737 - val_acc: 0.8852\n",
      "Epoch 118/200\n",
      "625/625 [==============================] - 15s 25ms/step - loss: 0.4044 - acc: 0.8970 - val_loss: 0.4785 - val_acc: 0.8827\n",
      "Epoch 119/200\n",
      "625/625 [==============================] - 16s 25ms/step - loss: 0.4029 - acc: 0.8971 - val_loss: 0.4764 - val_acc: 0.8829\n",
      "Epoch 120/200\n",
      "625/625 [==============================] - 15s 25ms/step - loss: 0.4030 - acc: 0.8957 - val_loss: 0.4626 - val_acc: 0.8832\n",
      "Epoch 121/200\n"
     ]
    },
    {
     "name": "stdout",
     "output_type": "stream",
     "text": [
      "625/625 [==============================] - 15s 24ms/step - loss: 0.3998 - acc: 0.8975 - val_loss: 0.4805 - val_acc: 0.8825\n",
      "Epoch 122/200\n",
      "625/625 [==============================] - 15s 25ms/step - loss: 0.4000 - acc: 0.8981 - val_loss: 0.4722 - val_acc: 0.8840\n",
      "Epoch 123/200\n",
      "625/625 [==============================] - 15s 24ms/step - loss: 0.3985 - acc: 0.8969 - val_loss: 0.4830 - val_acc: 0.8788\n",
      "Epoch 124/200\n",
      "625/625 [==============================] - 15s 24ms/step - loss: 0.4016 - acc: 0.8955 - val_loss: 0.4880 - val_acc: 0.8789\n",
      "Epoch 125/200\n",
      "625/625 [==============================] - 15s 25ms/step - loss: 0.3970 - acc: 0.8985 - val_loss: 0.4763 - val_acc: 0.8804\n",
      "Epoch 126/200\n",
      "625/625 [==============================] - 15s 25ms/step - loss: 0.3925 - acc: 0.9005 - val_loss: 0.4813 - val_acc: 0.8769\n",
      "Epoch 127/200\n",
      "625/625 [==============================] - 15s 25ms/step - loss: 0.3911 - acc: 0.8994 - val_loss: 0.4647 - val_acc: 0.8849\n",
      "Epoch 128/200\n",
      "625/625 [==============================] - 15s 24ms/step - loss: 0.3956 - acc: 0.8983 - val_loss: 0.4819 - val_acc: 0.8763\n",
      "Epoch 129/200\n",
      "625/625 [==============================] - 15s 24ms/step - loss: 0.3965 - acc: 0.8977 - val_loss: 0.4969 - val_acc: 0.8739\n",
      "Epoch 130/200\n",
      "625/625 [==============================] - 16s 25ms/step - loss: 0.3930 - acc: 0.8986 - val_loss: 0.4651 - val_acc: 0.8832\n",
      "Epoch 131/200\n",
      "625/625 [==============================] - 15s 24ms/step - loss: 0.3895 - acc: 0.8996 - val_loss: 0.4862 - val_acc: 0.8794\n",
      "Epoch 132/200\n",
      "625/625 [==============================] - 15s 24ms/step - loss: 0.3895 - acc: 0.8999 - val_loss: 0.4921 - val_acc: 0.8781\n",
      "Epoch 133/200\n",
      "625/625 [==============================] - 15s 24ms/step - loss: 0.3873 - acc: 0.9012 - val_loss: 0.4705 - val_acc: 0.8826\n",
      "Epoch 134/200\n",
      "625/625 [==============================] - 15s 24ms/step - loss: 0.3866 - acc: 0.9022 - val_loss: 0.4630 - val_acc: 0.8833\n",
      "Epoch 135/200\n",
      "625/625 [==============================] - 15s 24ms/step - loss: 0.3883 - acc: 0.9012 - val_loss: 0.4735 - val_acc: 0.8830\n",
      "Epoch 136/200\n",
      "625/625 [==============================] - 16s 25ms/step - loss: 0.3858 - acc: 0.9006 - val_loss: 0.4649 - val_acc: 0.8821\n",
      "Epoch 137/200\n",
      "625/625 [==============================] - 16s 25ms/step - loss: 0.3889 - acc: 0.9000 - val_loss: 0.4937 - val_acc: 0.8761\n",
      "Epoch 138/200\n",
      "625/625 [==============================] - 15s 24ms/step - loss: 0.3865 - acc: 0.9010 - val_loss: 0.4663 - val_acc: 0.8848\n",
      "Epoch 139/200\n",
      "625/625 [==============================] - 15s 25ms/step - loss: 0.3880 - acc: 0.8999 - val_loss: 0.4661 - val_acc: 0.8820\n",
      "Epoch 140/200\n",
      "625/625 [==============================] - 15s 24ms/step - loss: 0.3847 - acc: 0.9012 - val_loss: 0.4802 - val_acc: 0.8775\n",
      "Epoch 141/200\n",
      "625/625 [==============================] - 15s 24ms/step - loss: 0.3822 - acc: 0.9022 - val_loss: 0.4845 - val_acc: 0.8819\n",
      "Epoch 142/200\n",
      "625/625 [==============================] - 15s 25ms/step - loss: 0.3807 - acc: 0.9019 - val_loss: 0.5017 - val_acc: 0.8760\n",
      "Epoch 143/200\n",
      "625/625 [==============================] - 16s 25ms/step - loss: 0.3810 - acc: 0.9005 - val_loss: 0.4555 - val_acc: 0.8833\n",
      "Epoch 144/200\n",
      "625/625 [==============================] - 15s 24ms/step - loss: 0.3811 - acc: 0.9011 - val_loss: 0.4676 - val_acc: 0.8793\n",
      "Epoch 145/200\n",
      "625/625 [==============================] - 15s 24ms/step - loss: 0.3843 - acc: 0.8996 - val_loss: 0.4647 - val_acc: 0.8808\n",
      "Epoch 146/200\n",
      "625/625 [==============================] - 15s 24ms/step - loss: 0.3841 - acc: 0.9000 - val_loss: 0.4658 - val_acc: 0.8806\n",
      "Epoch 147/200\n",
      "625/625 [==============================] - 15s 24ms/step - loss: 0.3849 - acc: 0.8991 - val_loss: 0.4796 - val_acc: 0.8772\n",
      "Epoch 148/200\n",
      "625/625 [==============================] - 15s 24ms/step - loss: 0.3810 - acc: 0.9001 - val_loss: 0.4410 - val_acc: 0.8877\n",
      "Epoch 149/200\n",
      "625/625 [==============================] - 15s 24ms/step - loss: 0.3818 - acc: 0.9026 - val_loss: 0.4662 - val_acc: 0.8830\n",
      "Epoch 150/200\n",
      "625/625 [==============================] - 15s 24ms/step - loss: 0.3741 - acc: 0.9038 - val_loss: 0.4387 - val_acc: 0.8891\n",
      "Epoch 151/200\n",
      "625/625 [==============================] - 15s 24ms/step - loss: 0.3805 - acc: 0.9024 - val_loss: 0.4798 - val_acc: 0.8778\n",
      "Epoch 152/200\n",
      "625/625 [==============================] - 15s 24ms/step - loss: 0.3774 - acc: 0.9014 - val_loss: 0.4512 - val_acc: 0.8889\n",
      "Epoch 153/200\n",
      "625/625 [==============================] - 15s 24ms/step - loss: 0.3768 - acc: 0.9025 - val_loss: 0.4265 - val_acc: 0.8919\n",
      "Epoch 154/200\n",
      "625/625 [==============================] - 14s 23ms/step - loss: 0.3797 - acc: 0.9008 - val_loss: 0.4787 - val_acc: 0.8737\n",
      "Epoch 155/200\n",
      "625/625 [==============================] - 15s 24ms/step - loss: 0.3781 - acc: 0.9018 - val_loss: 0.4502 - val_acc: 0.8841\n",
      "Epoch 156/200\n",
      "625/625 [==============================] - 15s 24ms/step - loss: 0.3792 - acc: 0.9012 - val_loss: 0.4242 - val_acc: 0.8930\n",
      "Epoch 157/200\n",
      "625/625 [==============================] - 15s 24ms/step - loss: 0.3741 - acc: 0.9019 - val_loss: 0.4690 - val_acc: 0.8821\n",
      "Epoch 158/200\n",
      "625/625 [==============================] - 15s 24ms/step - loss: 0.3795 - acc: 0.9018 - val_loss: 0.4587 - val_acc: 0.8824\n",
      "Epoch 159/200\n",
      "625/625 [==============================] - 15s 24ms/step - loss: 0.3716 - acc: 0.9041 - val_loss: 0.4764 - val_acc: 0.8792\n",
      "Epoch 160/200\n",
      "625/625 [==============================] - 15s 24ms/step - loss: 0.3789 - acc: 0.9026 - val_loss: 0.4528 - val_acc: 0.8876\n",
      "Epoch 161/200\n",
      "625/625 [==============================] - 15s 24ms/step - loss: 0.3727 - acc: 0.9030 - val_loss: 0.4628 - val_acc: 0.8811\n",
      "Epoch 162/200\n",
      "625/625 [==============================] - 15s 24ms/step - loss: 0.3735 - acc: 0.9031 - val_loss: 0.4383 - val_acc: 0.8908\n",
      "Epoch 163/200\n",
      "625/625 [==============================] - 15s 24ms/step - loss: 0.3739 - acc: 0.9025 - val_loss: 0.4879 - val_acc: 0.8728\n",
      "Epoch 164/200\n",
      "625/625 [==============================] - 15s 25ms/step - loss: 0.3772 - acc: 0.9011 - val_loss: 0.4635 - val_acc: 0.8836\n",
      "Epoch 165/200\n",
      "625/625 [==============================] - 15s 24ms/step - loss: 0.3692 - acc: 0.9037 - val_loss: 0.4742 - val_acc: 0.8789\n",
      "Epoch 166/200\n",
      "625/625 [==============================] - 15s 24ms/step - loss: 0.3719 - acc: 0.9026 - val_loss: 0.4785 - val_acc: 0.8794\n",
      "Epoch 167/200\n",
      "625/625 [==============================] - 15s 24ms/step - loss: 0.3704 - acc: 0.9035 - val_loss: 0.4586 - val_acc: 0.8843\n",
      "Epoch 168/200\n",
      "625/625 [==============================] - 15s 24ms/step - loss: 0.3751 - acc: 0.9036 - val_loss: 0.4767 - val_acc: 0.8811\n",
      "Epoch 169/200\n",
      "625/625 [==============================] - 15s 24ms/step - loss: 0.3709 - acc: 0.9036 - val_loss: 0.5081 - val_acc: 0.8698\n",
      "Epoch 170/200\n",
      "625/625 [==============================] - 15s 24ms/step - loss: 0.3723 - acc: 0.9026 - val_loss: 0.4642 - val_acc: 0.8830\n",
      "Epoch 171/200\n",
      "625/625 [==============================] - 15s 24ms/step - loss: 0.3720 - acc: 0.9025 - val_loss: 0.4515 - val_acc: 0.8832\n",
      "Epoch 172/200\n",
      "625/625 [==============================] - 15s 24ms/step - loss: 0.3695 - acc: 0.9041 - val_loss: 0.4785 - val_acc: 0.8806\n",
      "Epoch 173/200\n",
      "625/625 [==============================] - 14s 23ms/step - loss: 0.3731 - acc: 0.9025 - val_loss: 0.4584 - val_acc: 0.8833\n",
      "Epoch 174/200\n",
      "625/625 [==============================] - 15s 24ms/step - loss: 0.3720 - acc: 0.9027 - val_loss: 0.4373 - val_acc: 0.8899\n",
      "Epoch 175/200\n",
      "625/625 [==============================] - 15s 24ms/step - loss: 0.3669 - acc: 0.9033 - val_loss: 0.4580 - val_acc: 0.8821\n",
      "Epoch 176/200\n",
      "625/625 [==============================] - 15s 24ms/step - loss: 0.3672 - acc: 0.9045 - val_loss: 0.4963 - val_acc: 0.8759\n",
      "Epoch 177/200\n",
      "625/625 [==============================] - 15s 24ms/step - loss: 0.3625 - acc: 0.9054 - val_loss: 0.4660 - val_acc: 0.8840\n",
      "Epoch 178/200\n",
      "625/625 [==============================] - 15s 24ms/step - loss: 0.3670 - acc: 0.9047 - val_loss: 0.4806 - val_acc: 0.8776\n",
      "Epoch 179/200\n",
      "625/625 [==============================] - 15s 24ms/step - loss: 0.3750 - acc: 0.9014 - val_loss: 0.4781 - val_acc: 0.8815\n",
      "Epoch 180/200\n",
      "625/625 [==============================] - 15s 24ms/step - loss: 0.3680 - acc: 0.9048 - val_loss: 0.4454 - val_acc: 0.8882\n"
     ]
    },
    {
     "name": "stdout",
     "output_type": "stream",
     "text": [
      "Epoch 181/200\n",
      "625/625 [==============================] - 14s 23ms/step - loss: 0.3665 - acc: 0.9048 - val_loss: 0.5034 - val_acc: 0.8728\n"
     ]
    }
   ],
   "source": [
    "batch_size = 64\n",
    " \n",
    "opt_rms = keras.optimizers.rmsprop(lr=0.001,decay=1e-6)\n",
    "model.compile(loss='categorical_crossentropy', optimizer=opt_rms, metrics=['accuracy'])\n",
    "history=model.fit_generator(datagen.flow(x_train, y_train, batch_size=batch_size),\\\n",
    "                    steps_per_epoch=x_train.shape[0] // batch_size,epochs=200,\\\n",
    "                    verbose=1,validation_data=(x_test,y_test),callbacks=[LearningRateScheduler(lr_schedule),mc,cv,tb,rp,es])"
   ]
  },
  {
   "cell_type": "code",
   "execution_count": 13,
   "metadata": {},
   "outputs": [
    {
     "name": "stdout",
     "output_type": "stream",
     "text": [
      "10000/10000 [==============================] - 1s 145us/step\n",
      "0.42422071585655213\n",
      "0.893\n"
     ]
    }
   ],
   "source": [
    "test_loss,test_acc=model.evaluate(x_test,y_test)\n",
    "print(test_loss)\n",
    "print(test_acc)"
   ]
  },
  {
   "cell_type": "code",
   "execution_count": 16,
   "metadata": {},
   "outputs": [],
   "source": [
    "train_loss = history.history['loss']\n",
    "train_acc = history.history['acc']\n",
    "val_loss = history.history['val_loss']\n",
    "val_acc = history.history['val_acc']\n",
    "xc=range(181)"
   ]
  },
  {
   "cell_type": "code",
   "execution_count": 17,
   "metadata": {},
   "outputs": [
    {
     "data": {
      "text/plain": [
       "<matplotlib.legend.Legend at 0x7fdd4c3b6dd8>"
      ]
     },
     "execution_count": 17,
     "metadata": {},
     "output_type": "execute_result"
    },
    {
     "data": {
      "image/png": "[encoded data removed]",
      "text/plain": [
       "<Figure size 432x288 with 1 Axes>"
      ]
     },
     "metadata": {
      "needs_background": "light"
     },
     "output_type": "display_data"
    }
   ],
   "source": [
    "import matplotlib.pyplot as plt\n",
    "%matplotlib inline\n",
    "plt.plot(xc, train_loss)\n",
    "plt.plot(xc, val_loss)\n",
    "plt.xlabel(\"Epoch\")\n",
    "plt.ylabel(\"Loss\")\n",
    "plt.legend(['train','val'])"
   ]
  },
  {
   "cell_type": "code",
   "execution_count": 18,
   "metadata": {},
   "outputs": [
    {
     "data": {
      "text/plain": [
       "<matplotlib.legend.Legend at 0x7fdd4c33fe10>"
      ]
     },
     "execution_count": 18,
     "metadata": {},
     "output_type": "execute_result"
    },
    {
     "data": {
      "image/png": "[encoded data removed]",
      "text/plain": [
       "<Figure size 432x288 with 1 Axes>"
      ]
     },
     "metadata": {
      "needs_background": "light"
     },
     "output_type": "display_data"
    }
   ],
   "source": [
    "import matplotlib.pyplot as plt\n",
    "%matplotlib inline\n",
    "plt.plot(xc, train_acc)\n",
    "plt.plot(xc, val_acc)\n",
    "plt.xlabel(\"Epoch\")\n",
    "plt.ylabel(\"Acc\")\n",
    "plt.legend(['train','val'])"
   ]
  },
  {
   "cell_type": "code",
   "execution_count": 19,
   "metadata": {},
   "outputs": [
    {
     "name": "stdout",
     "output_type": "stream",
     "text": [
      "[[7.0562302e-05 2.7487592e-03 4.6848887e-05 9.9412537e-01 2.0197533e-07\n",
      "  2.6121058e-03 2.2865283e-04 6.5376759e-07 1.5691134e-04 1.0007653e-05]]\n",
      "3\n"
     ]
    }
   ],
   "source": [
    "pred=model.predict(x_test[0].reshape(1,32,32,3))\n",
    "print(pred)\n",
    "print(pred.argmax())"
   ]
  },
  {
   "cell_type": "code",
   "execution_count": 20,
   "metadata": {},
   "outputs": [
    {
     "name": "stdout",
     "output_type": "stream",
     "text": [
      "              precision    recall  f1-score   support\n",
      "\n",
      "     class 0       0.90      0.91      0.90      1000\n",
      "     class 1       0.92      0.96      0.94      1000\n",
      "     class 2       0.87      0.86      0.87      1000\n",
      "     class 3       0.84      0.77      0.80      1000\n",
      "     class 4       0.90      0.88      0.89      1000\n",
      "     class 5       0.88      0.80      0.84      1000\n",
      "     class 6       0.86      0.96      0.91      1000\n",
      "     class 7       0.90      0.93      0.91      1000\n",
      "     class 8       0.94      0.93      0.93      1000\n",
      "     class 9       0.91      0.94      0.92      1000\n",
      "\n",
      "   micro avg       0.89      0.89      0.89     10000\n",
      "   macro avg       0.89      0.89      0.89     10000\n",
      "weighted avg       0.89      0.89      0.89     10000\n",
      "\n"
     ]
    }
   ],
   "source": [
    "import numpy as np\n",
    "from sklearn.metrics import classification_report,confusion_matrix\n",
    "import itertools\n",
    "\n",
    "Y_pred = model.predict(x_test)\n",
    "y_pred = np.argmax(Y_pred, axis=1)\n",
    "target_names = ['class 0', 'class 1', 'class 2','class 3','class 4','class 5','class 6','class 7','class 8','class 9']\n",
    "print(classification_report(np.argmax(y_test,axis=1), y_pred,target_names=target_names))"
   ]
  },
  {
   "cell_type": "code",
   "execution_count": 21,
   "metadata": {},
   "outputs": [],
   "source": [
    "import matplotlib.pyplot as plt\n",
    "def plot_confusion_matrix(cm, classes,\n",
    "                          normalize=False,\n",
    "                          title='Confusion matrix',\n",
    "                          cmap=plt.cm.Blues):\n",
    "    \"\"\"\n",
    "    This function prints and plots the confusion matrix.\n",
    "    Normalization can be applied by setting `normalize=True`.\n",
    "    \"\"\"\n",
    "    acc=np.trace(cm)/float(np.sum(cm))\n",
    "    miss_class=1-acc\n",
    "    plt.imshow(cm, interpolation='nearest', cmap=cmap)\n",
    "    plt.title(title)\n",
    "    plt.colorbar()\n",
    "    tick_marks = np.arange(len(classes))\n",
    "    plt.xticks(tick_marks, classes, rotation=45)\n",
    "    plt.yticks(tick_marks, classes)\n",
    "\n",
    "    if normalize:\n",
    "        cm = cm.astype('float') / cm.sum(axis=1)[:, np.newaxis]\n",
    "        print(\"Normalized confusion matrix\")\n",
    "    else:\n",
    "        print('Confusion matrix, without normalization')\n",
    "\n",
    "    print(cm)\n",
    "    print(acc)\n",
    "    print(miss_class)\n",
    "\n",
    "    thresh = cm.max() / 2.\n",
    "    for i, j in itertools.product(range(cm.shape[0]), range(cm.shape[1])):\n",
    "        plt.text(j, i, cm[i, j],\n",
    "                 horizontalalignment=\"center\",\n",
    "                 color=\"white\" if cm[i, j] > thresh else \"black\")\n",
    "        \n",
    "\n",
    "    plt.tight_layout()\n",
    "    plt.ylabel('True label')\n",
    "    plt.xlabel('Predicted label')"
   ]
  },
  {
   "cell_type": "code",
   "execution_count": 22,
   "metadata": {},
   "outputs": [
    {
     "name": "stdout",
     "output_type": "stream",
     "text": [
      "Confusion matrix, without normalization\n",
      "[[907  14  19   6   2   0   1   8  26  17]\n",
      " [  5 965   0   0   1   0   1   0   5  23]\n",
      " [ 20   2 863  10  20  24  37  14   4   6]\n",
      " [ 13   4  29 770  27  63  49  24   9  12]\n",
      " [  7   1  21  14 881   6  39  23   5   3]\n",
      " [  4   4  24  91  19 795  24  28   2   9]\n",
      " [  6   5  13  10   1   1 958   1   4   1]\n",
      " [  5   0  11  14  24  10   4 930   1   1]\n",
      " [ 30  11   6   1   0   0   2   3 926  21]\n",
      " [  9  44   1   1   0   0   1   5   4 935]]\n",
      "0.893\n",
      "0.10699999999999998\n"
     ]
    },
    {
     "data": {
      "image/png": "[encoded data removed]",
      "text/plain": [
       "<Figure size 720x720 with 2 Axes>"
      ]
     },
     "metadata": {
      "needs_background": "light"
     },
     "output_type": "display_data"
    }
   ],
   "source": [
    "cnf_matrix = (confusion_matrix(np.argmax(y_test,axis=1), y_pred))\n",
    "np.set_printoptions(precision=2)\n",
    "plt.figure(figsize=(10,10))\n",
    "plot_confusion_matrix(cnf_matrix, classes=target_names,\n",
    "                      title='Confusion matrix')"
   ]
  },
  {
   "cell_type": "code",
   "execution_count": null,
   "metadata": {},
   "outputs": [],
   "source": []
  }
 ],
 "metadata": {
  "kernelspec": {
   "display_name": "Python 3",
   "language": "python",
   "name": "python3"
  },
  "language_info": {
   "codemirror_mode": {
    "name": "ipython",
    "version": 3
   },
   "file_extension": ".py",
   "mimetype": "text/x-python",
   "name": "python",
   "nbconvert_exporter": "python",
   "pygments_lexer": "ipython3",
   "version": "3.6.7"
  }
 },
 "nbformat": 4,
 "nbformat_minor": 2
}
