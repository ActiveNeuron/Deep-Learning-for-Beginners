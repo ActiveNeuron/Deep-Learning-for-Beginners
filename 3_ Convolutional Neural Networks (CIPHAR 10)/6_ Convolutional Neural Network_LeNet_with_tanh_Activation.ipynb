{
 "cells": [
  {
   "cell_type": "code",
   "execution_count": 1,
   "metadata": {},
   "outputs": [
    {
     "name": "stderr",
     "output_type": "stream",
     "text": [
      "Using TensorFlow backend.\n"
     ]
    }
   ],
   "source": [
    "import keras\n",
    "from keras.models import Sequential\n",
    "from keras.utils import np_utils\n",
    "from keras.preprocessing.image import ImageDataGenerator\n",
    "from keras.layers import Dense, Activation, Flatten, Dropout, BatchNormalization\n",
    "from keras.layers import Conv2D, MaxPooling2D\n",
    "from keras.datasets import cifar10\n",
    "from keras import regularizers\n",
    "from keras.callbacks import LearningRateScheduler\n",
    "import numpy as np\n",
    "from sklearn.model_selection import train_test_split"
   ]
  },
  {
   "cell_type": "code",
   "execution_count": 2,
   "metadata": {},
   "outputs": [],
   "source": [
    "def lr_schedule(epoch):\n",
    "    lrate = 0.001\n",
    "    if epoch > 75:\n",
    "        lrate = 0.0005\n",
    "    if epoch > 100:\n",
    "        lrate = 0.0003\n",
    "    return lrate"
   ]
  },
  {
   "cell_type": "code",
   "execution_count": 3,
   "metadata": {},
   "outputs": [],
   "source": [
    "(x_train, y_train), (x_test, y_test) = cifar10.load_data()\n",
    "x_train = x_train.astype('float32')\n",
    "x_test = x_test.astype('float32')"
   ]
  },
  {
   "cell_type": "code",
   "execution_count": 4,
   "metadata": {},
   "outputs": [],
   "source": [
    "x_train , x_val, y_train, y_val = train_test_split(x_train, y_train, test_size=0.2)\n",
    "x_val = x_val.astype('float32')"
   ]
  },
  {
   "cell_type": "code",
   "execution_count": 5,
   "metadata": {},
   "outputs": [
    {
     "name": "stdout",
     "output_type": "stream",
     "text": [
      "40000\n",
      "40000\n",
      "10000\n",
      "10000\n",
      "10000\n",
      "10000\n"
     ]
    }
   ],
   "source": [
    "print(len(x_train))\n",
    "print(len(y_train))\n",
    "print(len(x_test))\n",
    "print(len(y_test))\n",
    "print(len(x_val))\n",
    "print(len(y_val))"
   ]
  },
  {
   "cell_type": "code",
   "execution_count": 6,
   "metadata": {},
   "outputs": [],
   "source": [
    "mean = np.mean(x_train,axis=(0,1,2,3))\n",
    "std = np.std(x_train,axis=(0,1,2,3))\n",
    "\n",
    "x_train = (x_train-mean)/(std+1e-7)\n",
    "x_test = (x_test-mean)/(std+1e-7)\n",
    "x_val = (x_val-mean)/(std+1e-7)\n"
   ]
  },
  {
   "cell_type": "code",
   "execution_count": 7,
   "metadata": {},
   "outputs": [],
   "source": [
    "num_classes = 10\n",
    "y_train = np_utils.to_categorical(y_train,num_classes)\n",
    "y_test = np_utils.to_categorical(y_test,num_classes)\n",
    "y_val = np_utils.to_categorical(y_val,num_classes)"
   ]
  },
  {
   "cell_type": "code",
   "execution_count": 8,
   "metadata": {},
   "outputs": [],
   "source": [
    "weight_decay = 1e-4"
   ]
  },
  {
   "cell_type": "code",
   "execution_count": 9,
   "metadata": {},
   "outputs": [],
   "source": [
    "from keras import models\n",
    "from keras import layers"
   ]
  },
  {
   "cell_type": "code",
   "execution_count": 10,
   "metadata": {},
   "outputs": [
    {
     "name": "stdout",
     "output_type": "stream",
     "text": [
      "_________________________________________________________________\n",
      "Layer (type)                 Output Shape              Param #   \n",
      "=================================================================\n",
      "conv2d_1 (Conv2D)            (None, 28, 28, 6)         456       \n",
      "_________________________________________________________________\n",
      "average_pooling2d_1 (Average (None, 14, 14, 6)         0         \n",
      "_________________________________________________________________\n",
      "conv2d_2 (Conv2D)            (None, 10, 10, 16)        2416      \n",
      "_________________________________________________________________\n",
      "average_pooling2d_2 (Average (None, 5, 5, 16)          0         \n",
      "_________________________________________________________________\n",
      "flatten_1 (Flatten)          (None, 400)               0         \n",
      "_________________________________________________________________\n",
      "dense_1 (Dense)              (None, 120)               48120     \n",
      "_________________________________________________________________\n",
      "dense_2 (Dense)              (None, 84)                10164     \n",
      "_________________________________________________________________\n",
      "dense_3 (Dense)              (None, 10)                850       \n",
      "=================================================================\n",
      "Total params: 62,006\n",
      "Trainable params: 62,006\n",
      "Non-trainable params: 0\n",
      "_________________________________________________________________\n"
     ]
    }
   ],
   "source": [
    "model = models.Sequential()\n",
    "\n",
    "model.add(layers.Conv2D(6, (5,5), input_shape=(32,32,3), activation='tanh', strides=(1,1), padding='valid'))\n",
    "model.add(layers.AveragePooling2D(pool_size=(2,2), strides=(2,2)))\n",
    "\n",
    "model.add(layers.Conv2D(16, (5,5), activation='tanh', strides=(1,1), padding='valid'))\n",
    "model.add(layers.AveragePooling2D(pool_size=(2,2), strides=(2,2)))\n",
    "\n",
    "model.add(layers.Flatten())\n",
    "\n",
    "model.add(layers.Dense(120, activation='tanh'))\n",
    "model.add(layers.Dense(84, activation='tanh'))\n",
    "\n",
    "model.add(layers.Dense(10, activation='softmax'))\n",
    "\n",
    "model.summary()"
   ]
  },
  {
   "cell_type": "code",
   "execution_count": 11,
   "metadata": {},
   "outputs": [],
   "source": [
    "datagen = ImageDataGenerator(\n",
    "    rotation_range=15,\n",
    "    width_shift_range=0.1,\n",
    "    height_shift_range=0.1,\n",
    "    horizontal_flip=True,\n",
    "    )\n",
    "datagen.fit(x_train)"
   ]
  },
  {
   "cell_type": "code",
   "execution_count": 12,
   "metadata": {},
   "outputs": [],
   "source": [
    "from keras.callbacks import ModelCheckpoint, TensorBoard, CSVLogger,ReduceLROnPlateau,LearningRateScheduler,EarlyStopping\n",
    "mc = ModelCheckpoint('Ciphar_CNN_tanh.h5', monitor='val_loss', save_best_only=True)\n",
    "tb = TensorBoard(log_dir='./logs', write_graph=True, write_grads=False, write_images=False, embeddings_freq=0, update_freq='epoch')\n",
    "cv = CSVLogger('Ciphar_CNN_tanh.csv',append=True)\n",
    "rp = ReduceLROnPlateau(monitor='val_loss', factor=0.1, patience=15, verbose=0, mode='auto', min_delta=0.0001, cooldown=0, min_lr=0)\n",
    "#es = EarlyStopping(monitor='val_loss', min_delta=0, patience=25, verbose=0, mode='auto', baseline=None, restore_best_weights=True)"
   ]
  },
  {
   "cell_type": "code",
   "execution_count": 13,
   "metadata": {},
   "outputs": [
    {
     "name": "stdout",
     "output_type": "stream",
     "text": [
      "Epoch 1/25\n",
      "625/625 [==============================] - 16s 25ms/step - loss: 1.8174 - acc: 0.3535 - val_loss: 1.6481 - val_acc: 0.4146\n",
      "Epoch 2/25\n",
      "625/625 [==============================] - 15s 23ms/step - loss: 1.6532 - acc: 0.4148 - val_loss: 1.5571 - val_acc: 0.4531\n",
      "Epoch 3/25\n",
      "625/625 [==============================] - 15s 23ms/step - loss: 1.5458 - acc: 0.4508 - val_loss: 1.4491 - val_acc: 0.4861\n",
      "Epoch 4/25\n",
      "625/625 [==============================] - 15s 24ms/step - loss: 1.4803 - acc: 0.4722 - val_loss: 1.4062 - val_acc: 0.4996\n",
      "Epoch 5/25\n",
      "625/625 [==============================] - 14s 23ms/step - loss: 1.4357 - acc: 0.4891 - val_loss: 1.3791 - val_acc: 0.5061\n",
      "Epoch 6/25\n",
      "625/625 [==============================] - 14s 23ms/step - loss: 1.4070 - acc: 0.4967 - val_loss: 1.3408 - val_acc: 0.5226\n",
      "Epoch 7/25\n",
      "625/625 [==============================] - 15s 23ms/step - loss: 1.3768 - acc: 0.5070 - val_loss: 1.3160 - val_acc: 0.5344\n",
      "Epoch 8/25\n",
      "625/625 [==============================] - 15s 23ms/step - loss: 1.3505 - acc: 0.5182 - val_loss: 1.2908 - val_acc: 0.5400\n",
      "Epoch 9/25\n",
      "625/625 [==============================] - 15s 23ms/step - loss: 1.3366 - acc: 0.5237 - val_loss: 1.2664 - val_acc: 0.5476\n",
      "Epoch 10/25\n",
      "625/625 [==============================] - 15s 23ms/step - loss: 1.3192 - acc: 0.5295 - val_loss: 1.2546 - val_acc: 0.5577\n",
      "Epoch 11/25\n",
      "625/625 [==============================] - 15s 23ms/step - loss: 1.2984 - acc: 0.5376 - val_loss: 1.2574 - val_acc: 0.5504\n",
      "Epoch 12/25\n",
      "625/625 [==============================] - 15s 24ms/step - loss: 1.2862 - acc: 0.5437 - val_loss: 1.2314 - val_acc: 0.5675\n",
      "Epoch 13/25\n",
      "625/625 [==============================] - 15s 24ms/step - loss: 1.2727 - acc: 0.5456 - val_loss: 1.2319 - val_acc: 0.5658\n",
      "Epoch 14/25\n",
      "625/625 [==============================] - 15s 24ms/step - loss: 1.2621 - acc: 0.5532 - val_loss: 1.2259 - val_acc: 0.5661\n",
      "Epoch 15/25\n",
      "625/625 [==============================] - 15s 23ms/step - loss: 1.2513 - acc: 0.5535 - val_loss: 1.2487 - val_acc: 0.5644\n",
      "Epoch 16/25\n",
      "625/625 [==============================] - 15s 24ms/step - loss: 1.2440 - acc: 0.5562 - val_loss: 1.2152 - val_acc: 0.5705\n",
      "Epoch 17/25\n",
      "625/625 [==============================] - 16s 26ms/step - loss: 1.2287 - acc: 0.5629 - val_loss: 1.2047 - val_acc: 0.5754\n",
      "Epoch 18/25\n",
      "625/625 [==============================] - 16s 26ms/step - loss: 1.2251 - acc: 0.5635 - val_loss: 1.1998 - val_acc: 0.5753\n",
      "Epoch 19/25\n",
      "625/625 [==============================] - 16s 26ms/step - loss: 1.2185 - acc: 0.5665 - val_loss: 1.2150 - val_acc: 0.5699\n",
      "Epoch 20/25\n",
      "625/625 [==============================] - 16s 26ms/step - loss: 1.2142 - acc: 0.5683 - val_loss: 1.2054 - val_acc: 0.5768\n",
      "Epoch 21/25\n",
      "625/625 [==============================] - 16s 26ms/step - loss: 1.2038 - acc: 0.5697 - val_loss: 1.1797 - val_acc: 0.5877\n",
      "Epoch 22/25\n",
      "625/625 [==============================] - 16s 26ms/step - loss: 1.1994 - acc: 0.5727 - val_loss: 1.1859 - val_acc: 0.5867\n",
      "Epoch 23/25\n",
      "625/625 [==============================] - 16s 26ms/step - loss: 1.1912 - acc: 0.5756 - val_loss: 1.1635 - val_acc: 0.5882\n",
      "Epoch 24/25\n",
      "625/625 [==============================] - 16s 26ms/step - loss: 1.1897 - acc: 0.5794 - val_loss: 1.1645 - val_acc: 0.5924\n",
      "Epoch 25/25\n",
      "625/625 [==============================] - 16s 25ms/step - loss: 1.1850 - acc: 0.5765 - val_loss: 1.1557 - val_acc: 0.5913\n"
     ]
    }
   ],
   "source": [
    "batch_size = 64\n",
    "\n",
    "opt_rms = keras.optimizers.Adam(lr=0.001, beta_1=0.9, beta_2=0.999, epsilon=None, decay=0.0, amsgrad=True) \n",
    "\n",
    "model.compile(loss='categorical_crossentropy', optimizer=opt_rms, metrics=['accuracy'])\n",
    "\n",
    "history=model.fit_generator(datagen.flow(x_train, y_train, batch_size=batch_size),\n",
    "                    steps_per_epoch=x_train.shape[0] // batch_size,epochs=25,validation_data=(x_val,y_val),\n",
    "                    class_weight='auto',verbose=1,callbacks=[LearningRateScheduler(lr_schedule),mc,cv,tb,rp])"
   ]
  },
  {
   "cell_type": "code",
   "execution_count": 14,
   "metadata": {
    "scrolled": true
   },
   "outputs": [
    {
     "name": "stdout",
     "output_type": "stream",
     "text": [
      "10000/10000 [==============================] - 1s 95us/step\n",
      "1.1388251022338867\n",
      "0.5948\n"
     ]
    }
   ],
   "source": [
    "test_loss,test_acc=model.evaluate(x_test,y_test)\n",
    "print(test_loss)\n",
    "print(test_acc)"
   ]
  },
  {
   "cell_type": "code",
   "execution_count": 17,
   "metadata": {},
   "outputs": [],
   "source": [
    "train_loss = history.history['loss']\n",
    "train_acc = history.history['acc']\n",
    "val_loss = history.history['val_loss']\n",
    "val_acc = history.history['val_acc']\n",
    "xc=range(25)"
   ]
  },
  {
   "cell_type": "code",
   "execution_count": 18,
   "metadata": {},
   "outputs": [
    {
     "data": {
      "text/plain": [
       "<matplotlib.legend.Legend at 0x7f8cc846bd68>"
      ]
     },
     "execution_count": 18,
     "metadata": {},
     "output_type": "execute_result"
    },
    {
     "data": {
      "image/png": "[encoded data removed]",
      "text/plain": [
       "<Figure size 432x288 with 1 Axes>"
      ]
     },
     "metadata": {
      "needs_background": "light"
     },
     "output_type": "display_data"
    }
   ],
   "source": [
    "import matplotlib.pyplot as plt\n",
    "%matplotlib inline\n",
    "plt.plot(xc, train_loss)\n",
    "plt.plot(xc, val_loss)\n",
    "plt.xlabel(\"Epoch\")\n",
    "plt.ylabel(\"Loss\")\n",
    "plt.legend(['train','val'])"
   ]
  },
  {
   "cell_type": "code",
   "execution_count": 19,
   "metadata": {},
   "outputs": [
    {
     "data": {
      "text/plain": [
       "<matplotlib.legend.Legend at 0x7f8cc83f14e0>"
      ]
     },
     "execution_count": 19,
     "metadata": {},
     "output_type": "execute_result"
    },
    {
     "data": {
      "image/png": "[encoded data removed]",
      "text/plain": [
       "<Figure size 432x288 with 1 Axes>"
      ]
     },
     "metadata": {
      "needs_background": "light"
     },
     "output_type": "display_data"
    }
   ],
   "source": [
    "import matplotlib.pyplot as plt\n",
    "%matplotlib inline\n",
    "plt.plot(xc, train_acc)\n",
    "plt.plot(xc, val_acc)\n",
    "plt.xlabel(\"Epoch\")\n",
    "plt.ylabel(\"Acc\")\n",
    "plt.legend(['train','val'])"
   ]
  },
  {
   "cell_type": "code",
   "execution_count": 20,
   "metadata": {},
   "outputs": [
    {
     "name": "stdout",
     "output_type": "stream",
     "text": [
      "[[0.01543544 0.01557327 0.04372528 0.2937038  0.13033834 0.41062596\n",
      "  0.01283717 0.01836021 0.02168506 0.03771551]]\n",
      "5\n"
     ]
    }
   ],
   "source": [
    "pred=model.predict(x_test[0].reshape(1,32,32,3))\n",
    "print(pred)\n",
    "print(pred.argmax())"
   ]
  },
  {
   "cell_type": "code",
   "execution_count": 21,
   "metadata": {},
   "outputs": [
    {
     "name": "stdout",
     "output_type": "stream",
     "text": [
      "              precision    recall  f1-score   support\n",
      "\n",
      "     class 0       0.68      0.59      0.63      1000\n",
      "     class 1       0.67      0.73      0.70      1000\n",
      "     class 2       0.51      0.48      0.50      1000\n",
      "     class 3       0.47      0.33      0.38      1000\n",
      "     class 4       0.61      0.39      0.48      1000\n",
      "     class 5       0.50      0.57      0.53      1000\n",
      "     class 6       0.56      0.76      0.64      1000\n",
      "     class 7       0.63      0.71      0.67      1000\n",
      "     class 8       0.70      0.71      0.71      1000\n",
      "     class 9       0.60      0.68      0.64      1000\n",
      "\n",
      "   micro avg       0.59      0.59      0.59     10000\n",
      "   macro avg       0.59      0.59      0.59     10000\n",
      "weighted avg       0.59      0.59      0.59     10000\n",
      "\n"
     ]
    }
   ],
   "source": [
    "import numpy as np\n",
    "from sklearn.metrics import classification_report,confusion_matrix\n",
    "import itertools\n",
    "\n",
    "Y_pred = model.predict(x_test)\n",
    "y_pred = np.argmax(Y_pred, axis=1)\n",
    "target_names = ['class 0', 'class 1', 'class 2','class 3','class 4','class 5','class 6','class 7','class 8','class 9']\n",
    "print(classification_report(np.argmax(y_test,axis=1), y_pred,target_names=target_names))"
   ]
  },
  {
   "cell_type": "code",
   "execution_count": 22,
   "metadata": {},
   "outputs": [],
   "source": [
    "import matplotlib.pyplot as plt\n",
    "def plot_confusion_matrix(cm, classes,\n",
    "                          normalize=False,\n",
    "                          title='Confusion matrix',\n",
    "                          cmap=plt.cm.Blues):\n",
    "    \"\"\"\n",
    "    This function prints and plots the confusion matrix.\n",
    "    Normalization can be applied by setting `normalize=True`.\n",
    "    \"\"\"\n",
    "    acc=np.trace(cm)/float(np.sum(cm))\n",
    "    miss_class=1-acc\n",
    "    plt.imshow(cm, interpolation='nearest', cmap=cmap)\n",
    "    plt.title(title)\n",
    "    plt.colorbar()\n",
    "    tick_marks = np.arange(len(classes))\n",
    "    plt.xticks(tick_marks, classes, rotation=45)\n",
    "    plt.yticks(tick_marks, classes)\n",
    "\n",
    "    if normalize:\n",
    "        cm = cm.astype('float') / cm.sum(axis=1)[:, np.newaxis]\n",
    "        print(\"Normalized confusion matrix\")\n",
    "    else:\n",
    "        print('Confusion matrix, without normalization')\n",
    "\n",
    "    print(cm)\n",
    "    print(acc)\n",
    "    print(miss_class)\n",
    "\n",
    "    thresh = cm.max() / 2.\n",
    "    for i, j in itertools.product(range(cm.shape[0]), range(cm.shape[1])):\n",
    "        plt.text(j, i, cm[i, j],\n",
    "                 horizontalalignment=\"center\",\n",
    "                 color=\"white\" if cm[i, j] > thresh else \"black\")\n",
    "        \n",
    "\n",
    "    plt.tight_layout()\n",
    "    plt.ylabel('True label')\n",
    "    plt.xlabel('Predicted label')"
   ]
  },
  {
   "cell_type": "code",
   "execution_count": 23,
   "metadata": {},
   "outputs": [
    {
     "name": "stdout",
     "output_type": "stream",
     "text": [
      "Confusion matrix, without normalization\n",
      "[[586  50  72  11  15   6  36  16 122  86]\n",
      " [ 25 733  10   6   1   8  27   9  30 151]\n",
      " [ 61  17 480  45  81  72 127  68  23  26]\n",
      " [ 17  19  80 326  45 260 136  56  25  36]\n",
      " [ 24   7 128  56 393  73 134 150  24  11]\n",
      " [  8   6  62 143  27 567  72  80  14  21]\n",
      " [  1  13  56  51  36  46 762  16   7  12]\n",
      " [ 20  13  18  40  33  85  29 713   8  41]\n",
      " [ 84  73  16  11   8  13  16  10 707  62]\n",
      " [ 31 156  14  12   3  11  27  22  43 681]]\n",
      "0.5948\n",
      "0.4052\n"
     ]
    },
    {
     "data": {
      "image/png": "[encoded data removed]",
      "text/plain": [
       "<Figure size 720x720 with 2 Axes>"
      ]
     },
     "metadata": {
      "needs_background": "light"
     },
     "output_type": "display_data"
    }
   ],
   "source": [
    "cnf_matrix = (confusion_matrix(np.argmax(y_test,axis=1), y_pred))\n",
    "np.set_printoptions(precision=2)\n",
    "plt.figure(figsize=(10,10))\n",
    "plot_confusion_matrix(cnf_matrix, classes=target_names,\n",
    "                      title='Confusion matrix')"
   ]
  },
  {
   "cell_type": "code",
   "execution_count": null,
   "metadata": {},
   "outputs": [],
   "source": []
  }
 ],
 "metadata": {
  "kernelspec": {
   "display_name": "Python 3",
   "language": "python",
   "name": "python3"
  },
  "language_info": {
   "codemirror_mode": {
    "name": "ipython",
    "version": 3
   },
   "file_extension": ".py",
   "mimetype": "text/x-python",
   "name": "python",
   "nbconvert_exporter": "python",
   "pygments_lexer": "ipython3",
   "version": "3.6.7"
  }
 },
 "nbformat": 4,
 "nbformat_minor": 2
}
